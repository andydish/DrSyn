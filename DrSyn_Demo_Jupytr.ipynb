{
 "cells": [
  {
   "cell_type": "code",
   "execution_count": 1,
   "id": "539583cd",
   "metadata": {
    "scrolled": true
   },
   "outputs": [
    {
     "name": "stdout",
     "output_type": "stream",
     "text": [
      "Collecting git+https://github.com/boohag/DrSyn.git\n",
      "  Cloning https://github.com/boohag/DrSyn.git to /tmp/pip-req-build-r11q0u16\n",
      "  Running command git clone --filter=blob:none --quiet https://github.com/boohag/DrSyn.git /tmp/pip-req-build-r11q0u16\n",
      "  Resolved https://github.com/boohag/DrSyn.git to commit e4eda492cefd3052e97d318019fc072867177f9c\n",
      "  Preparing metadata (setup.py) ... \u001b[?25ldone\n",
      "\u001b[?25hRequirement already satisfied: pandas in /home/clark/anaconda3/lib/python3.11/site-packages (from DrSyn==1.0.1) (2.0.3)\n",
      "Requirement already satisfied: requests in /home/clark/anaconda3/lib/python3.11/site-packages (from DrSyn==1.0.1) (2.31.0)\n",
      "Requirement already satisfied: python-dateutil>=2.8.2 in /home/clark/anaconda3/lib/python3.11/site-packages (from pandas->DrSyn==1.0.1) (2.8.2)\n",
      "Requirement already satisfied: pytz>=2020.1 in /home/clark/anaconda3/lib/python3.11/site-packages (from pandas->DrSyn==1.0.1) (2023.3.post1)\n",
      "Requirement already satisfied: tzdata>=2022.1 in /home/clark/anaconda3/lib/python3.11/site-packages (from pandas->DrSyn==1.0.1) (2023.3)\n",
      "Requirement already satisfied: numpy>=1.21.0 in /home/clark/anaconda3/lib/python3.11/site-packages (from pandas->DrSyn==1.0.1) (1.24.3)\n",
      "Requirement already satisfied: charset-normalizer<4,>=2 in /home/clark/anaconda3/lib/python3.11/site-packages (from requests->DrSyn==1.0.1) (2.0.4)\n",
      "Requirement already satisfied: idna<4,>=2.5 in /home/clark/anaconda3/lib/python3.11/site-packages (from requests->DrSyn==1.0.1) (3.4)\n",
      "Requirement already satisfied: urllib3<3,>=1.21.1 in /home/clark/anaconda3/lib/python3.11/site-packages (from requests->DrSyn==1.0.1) (1.26.16)\n",
      "Requirement already satisfied: certifi>=2017.4.17 in /home/clark/anaconda3/lib/python3.11/site-packages (from requests->DrSyn==1.0.1) (2024.2.2)\n",
      "Requirement already satisfied: six>=1.5 in /home/clark/anaconda3/lib/python3.11/site-packages (from python-dateutil>=2.8.2->pandas->DrSyn==1.0.1) (1.16.0)\n",
      "Note: you may need to restart the kernel to use updated packages.\n"
     ]
    }
   ],
   "source": [
    "pip install git+https://github.com/boohag/DrSyn.git"
   ]
  },
  {
   "cell_type": "code",
   "execution_count": 2,
   "id": "4b89fc8f",
   "metadata": {
    "scrolled": true
   },
   "outputs": [
    {
     "name": "stdout",
     "output_type": "stream",
     "text": [
      "Downloading Drug_Synonym_Library.csv\n",
      "Downloading pgid_mapping.json\n"
     ]
    }
   ],
   "source": [
    "import DrSyn"
   ]
  },
  {
   "cell_type": "markdown",
   "id": "70e0e797",
   "metadata": {},
   "source": [
    "# Overview\n",
    "\n",
    "- This notebook provides examples of how to use the DrSyn package.\n",
    "- The functionality centers around recognizing drug names and converting them to their 'common' or 'generic' names following MeSH standards.\n",
    "- These scripts can process individual sentences or multiple documents to extract all present drug names and provide their converted names.\n",
    "- You can also use `pg_lookup` to search for specific drug names or Precision Genetics personal drug identifiers (PGDIDs).\n",
    "\n",
    "## Sample Inputs\n"
   ]
  },
  {
   "cell_type": "code",
   "execution_count": 8,
   "id": "8a50555b",
   "metadata": {},
   "outputs": [],
   "source": [
    "    # Sample text for recognizing drugs in text\n",
    "    sample_text = (\n",
    "        \"I tried to decide between aspirin, Tylenol, Aleve, and Ibuprofen for my headache. \"\n",
    "        \"I've been taking adderall, pristiq, and lamotrigine. \"\n",
    "        \"I think Zoloft is much better than Claritan!\"\n",
    "    )\n",
    "    \n",
    "        # Sample documents for recognizing drugs in multiple documents\n",
    "    sample_documents = [\n",
    "        \"Aspirin and Ibuprofen are common painkillers.\",\n",
    "        \"Tylenol is often used for headaches.\",\n",
    "        \"Aleve can be effective for pain relief.\",\n",
    "        \"Adderall is used to treat ADHD.\"\n",
    "    ]\n",
    "\n",
    "    # Sample Drugs and PGDIDs for lookup\n",
    "    sample_pgids = ['PGDID85008', 'PGDID363095', 'PGDID216745']\n",
    "    sample_drugs = ['Tylenol', 'Advil', 'Immodium']\n",
    "    "
   ]
  },
  {
   "cell_type": "markdown",
   "id": "1f20bacd",
   "metadata": {},
   "source": [
    "## Recognizing drugs within sentences, paragraphs, or the text of a single document"
   ]
  },
  {
   "cell_type": "code",
   "execution_count": 9,
   "id": "f8c27746",
   "metadata": {},
   "outputs": [
    {
     "name": "stdout",
     "output_type": "stream",
     "text": [
      "Testing recognize_drugs_in_text...\n",
      "Recognized drugs in text:\n",
      "Drug: aspirin, PGID: PGDID1906452\n",
      "Drug: acetaminophen, PGID: PGDID84099\n",
      "Drug: naproxen, PGID: PGDID1001887\n",
      "Drug: ibuprofen, PGID: PGDID217514\n",
      "Drug: amphetamine, PGID: PGDID2062818\n",
      "Drug: desvenlafaxine, PGID: PGDID1607287\n",
      "Drug: lamotrigine, PGID: PGDID228445\n",
      "Drug: sertraline, PGID: PGDID734610\n"
     ]
    }
   ],
   "source": [
    "    # Test recognize_drugs_in_text\n",
    "    print(\"Testing recognize_drugs_in_text...\")\n",
    "    recognized_drugs = DrSyn.recognize_drugs_in_text(sample_text)\n",
    "    print(\"Recognized drugs in text:\")\n",
    "    for common_name, pgid in recognized_drugs:\n",
    "        print(f\"Drug: {common_name}, PGID: {pgid}\")"
   ]
  },
  {
   "cell_type": "markdown",
   "id": "d502e670",
   "metadata": {},
   "source": [
    "## Recognizing drugs within multiple documents"
   ]
  },
  {
   "cell_type": "code",
   "execution_count": 5,
   "id": "e8953921",
   "metadata": {},
   "outputs": [
    {
     "name": "stdout",
     "output_type": "stream",
     "text": [
      "\n",
      "Testing recognize_drugs_in_documents...\n",
      "Processing time: 0.0015 seconds\n",
      "Recognized drugs in documents:\n",
      "Document 1:\n",
      "  Drug: aspirin, PGID: PGDID1906452\n",
      "  Drug: ibuprofen, PGID: PGDID217514\n",
      "Document 2:\n",
      "  Drug: acetaminophen, PGID: PGDID84099\n",
      "Document 3:\n",
      "  Drug: naproxen, PGID: PGDID1001887\n",
      "Document 4:\n",
      "  Drug: amphetamine, PGID: PGDID2062818\n"
     ]
    }
   ],
   "source": [
    "    # Test recognize_drugs_in_documents\n",
    "    print(\"\\nTesting recognize_drugs_in_documents...\")\n",
    "    recognized_drugs_in_documents = DrSyn.recognize_drugs_in_documents(sample_documents, max_workers=4)\n",
    "    print(\"Recognized drugs in documents:\")\n",
    "    for doc_index, recognized_drugs in enumerate(recognized_drugs_in_documents):\n",
    "        print(f\"Document {doc_index + 1}:\")\n",
    "        for common_name, pgid in recognized_drugs:\n",
    "            print(f\"  Drug: {common_name}, PGID: {pgid}\")"
   ]
  },
  {
   "cell_type": "markdown",
   "id": "939c34ae",
   "metadata": {},
   "source": [
    "## Searching for specific drugs or PGDID's\n",
    "\n",
    "- The 'fetch' parameter can be modified with types than are present.\n",
    "- It does not matter if you are searching for Brand Names or Generic.\n",
    "- The output will provide the name of the drug searched, its common name, and a preview of other synonyms"
   ]
  },
  {
   "cell_type": "code",
   "execution_count": 10,
   "id": "9fde8b54",
   "metadata": {},
   "outputs": [
    {
     "name": "stdout",
     "output_type": "stream",
     "text": [
      "\n",
      "Testing pg_lookup...\n",
      "PGID and Drug Lookup results:\n",
      "PGID: PGDID85008, Common Name: acetaminophen, Synonyms: ['acetaminophen', 'better living brands chi ldrens fe\\nver and pain reliver']\n",
      "PGID: PGDID363095, Common Name: venlafaxine, Synonyms: ['venlafaxine', 'venlafaxine hcl']\n",
      "PGID: PGDID216745, Common Name: ibuprofen, Synonyms: ['ibuprofen', 'inchi=1/c13h18o2/c1-9(2)8-11-4-6-12(7-5-11)10(3)13(14)15/h4-7,9-10h,8h2,1-3h3,(h,14,15)']\n",
      "Drug: Tylenol, Common Name: Acetaminophen, Synonyms: ['acetaminophen', 'better living brands chi ldrens fe\\nver and pain reliver']\n",
      "Drug: Advil, Common Name: Ibuprofen, Synonyms: ['ibuprofen', 'inchi=1/c13h18o2/c1-9(2)8-11-4-6-12(7-5-11)10(3)13(14)15/h4-7,9-10h,8h2,1-3h3,(h,14,15)']\n",
      "Drug: Immodium, Common Name: Loperamide, Synonyms: ['loperamide', 'loperamide hydrochloride for system suitability, european pharmacopoeia (ep) reference standard']\n"
     ]
    }
   ],
   "source": [
    "    # Test pg_lookup\n",
    "    print(\"\\nTesting pg_lookup...\")\n",
    "    PGDID_lookup_results = DrSyn.pg_lookup(sample_pgids, search_by='pgid', fetch=['searched_pgid', 'common_name', 'synonyms'])\n",
    "    drug_lookup_results = DrSyn.pg_lookup(sample_drugs, search_by='drug_name', fetch=['searched_name', 'common_name', 'pgid', 'synonyms'])\n",
    "    print(\"PGID and Drug Lookup results:\")\n",
    "    for result in PGDID_lookup_results:\n",
    "        print(f\"PGID: {result['searched_pgid']}, Common Name: {result['common_name']}, Synonyms: {result['synonyms']}\")\n",
    "    for result in drug_lookup_results:\n",
    "        print(f\"Drug: {result['searched_name']}, Common Name: {result['common_name']}, Synonyms: {result['synonyms']}\")"
   ]
  },
  {
   "cell_type": "code",
   "execution_count": null,
   "id": "a01eaeab",
   "metadata": {},
   "outputs": [],
   "source": []
  }
 ],
 "metadata": {
  "kernelspec": {
   "display_name": "Python 3 (ipykernel)",
   "language": "python",
   "name": "python3"
  },
  "language_info": {
   "codemirror_mode": {
    "name": "ipython",
    "version": 3
   },
   "file_extension": ".py",
   "mimetype": "text/x-python",
   "name": "python",
   "nbconvert_exporter": "python",
   "pygments_lexer": "ipython3",
   "version": "3.11.5"
  }
 },
 "nbformat": 4,
 "nbformat_minor": 5
}
